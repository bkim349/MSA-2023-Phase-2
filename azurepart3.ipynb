{
 "cells": [
  {
   "cell_type": "markdown",
   "metadata": {},
   "source": [
    "# MSA 2023 Phase 2 - Part 3"
   ]
  },
  {
   "cell_type": "code",
   "execution_count": 1,
   "metadata": {},
   "outputs": [],
   "source": [
    "from azureml.core import Workspace\n",
    "from azureml.core.model import Model\n",
    "from azureml.core import Environment\n",
    "from azureml.core.conda_dependencies import CondaDependencies\n",
    "from azureml.core.model import InferenceConfig\n",
    "from azureml.core.webservice import AciWebservice\n",
    "\n",
    "\n",
    "from sklearn.model_selection import train_test_split\n",
    "import numpy as np\n",
    "import requests, json, os"
   ]
  },
  {
   "cell_type": "markdown",
   "metadata": {},
   "source": [
    "### Connect to workspace"
   ]
  },
  {
   "cell_type": "code",
   "execution_count": 2,
   "metadata": {},
   "outputs": [
    {
     "name": "stdout",
     "output_type": "stream",
     "text": [
      "Workspace.create(name='MSA2023-Phase2-Azure', subscription_id='2b48bec8-2465-458d-98ce-3445ace62d9f', resource_group='MSA2023-Phase2-Azure')\n"
     ]
    }
   ],
   "source": [
    "ws = Workspace.from_config(path=\"config.json\") \n",
    "print(ws)"
   ]
  },
  {
   "cell_type": "markdown",
   "metadata": {},
   "source": [
    "### Register model"
   ]
  },
  {
   "cell_type": "code",
   "execution_count": 3,
   "metadata": {},
   "outputs": [
    {
     "name": "stdout",
     "output_type": "stream",
     "text": [
      "Registering model linear_regression_exam\n"
     ]
    }
   ],
   "source": [
    "from sklearn.linear_model import LinearRegression\n",
    "lr_model = Model.register(ws, model_name = \"examlrmodel\", model_path = \"lr_model.pkl\")"
   ]
  },
  {
   "cell_type": "markdown",
   "metadata": {},
   "source": [
    "### Create entry script"
   ]
  },
  {
   "cell_type": "markdown",
   "metadata": {},
   "source": [
    "Registering a model only uploads it onto the cloud, there is no code that can allow us to interface with it. As such, an entry script needs to be created that will run when the model receives data. This script contains two functions:\n",
    "\n",
    "1. ```init()```: loads the model via a global variable\n",
    "2. ```run()```: loads the input data, runs the model on it, and returns its predictions to the client\n",
    "\n",
    "For the Iris dataset, a script called echo_score.py has been written below."
   ]
  },
  {
   "cell_type": "code",
   "execution_count": 4,
   "metadata": {},
   "outputs": [],
   "source": [
    "# echo_score.py\n",
    "\n",
    "# Since the model works with label-encoded data, we can create a dictionary to get the actual class names\n",
    "\n",
    "def init():\n",
    "    global model\n",
    "    model =  LinearRegression()\n",
    "    model.load_model(os.path.join(os.getenv(\"AZUREML_MODEL_DIR\"), \"lr_model.pkl\"))\n",
    "\n",
    "def run(request):\n",
    "    data = json.loads(request)\n",
    "    data = np.array(data[\"data\"])\n",
    "    response = model.predict(data)\n",
    "    return [classes.get(key) for key in response]"
   ]
  },
  {
   "cell_type": "markdown",
   "metadata": {},
   "source": [
    "### Create remote virtual environment"
   ]
  },
  {
   "cell_type": "markdown",
   "metadata": {},
   "source": [
    "After registering our model and creating an entry script, we need to create a remote virtual environment. This environment should have exactly the same modules (including their versions) as the virtual environment on our local machine where we know our model runs.\n",
    "\n",
    "Under the hood, Azure is creating a Docker container which is essentially a more isolated version of a virtual machine (you don't need to know the specifics of Docker to complete this part). This container will contain the remote virtual environment we want our model to run inside.\n",
    "\n",
    "There are two options to create a remote virtual environment, as shown below. Using the first option is the easiest but may result in deployment errors, in which case try the second option."
   ]
  },
  {
   "cell_type": "code",
   "execution_count": 5,
   "metadata": {},
   "outputs": [],
   "source": [
    "# OPTION 1: Create from Pip requirements\n",
    "env = Environment.from_pip_requirements(name=\"examlrmodel\", file_path=\"requirements.txt\")"
   ]
  },
  {
   "cell_type": "markdown",
   "metadata": {},
   "source": [
    "### Create inference configuration"
   ]
  },
  {
   "cell_type": "markdown",
   "metadata": {},
   "source": [
    "An inference configuration contains all the configuration settings needed for your remote virtual environment."
   ]
  },
  {
   "cell_type": "code",
   "execution_count": 6,
   "metadata": {},
   "outputs": [],
   "source": [
    "inference_config = InferenceConfig(\n",
    "    environment=env,\n",
    "    source_directory=\"./source_dir\",\n",
    "    entry_script=\"echo_score.py\",\n",
    ")"
   ]
  },
  {
   "cell_type": "markdown",
   "metadata": {},
   "source": [
    "### Deploy model"
   ]
  },
  {
   "cell_type": "code",
   "execution_count": 7,
   "metadata": {},
   "outputs": [
    {
     "name": "stderr",
     "output_type": "stream",
     "text": [
      "C:\\Users\\kimby\\AppData\\Local\\Temp\\ipykernel_20872\\3608784840.py:3: FutureWarning: azureml.core.model:\n",
      "To leverage new model deployment capabilities, AzureML recommends using CLI/SDK v2 to deploy models as online endpoint, \n",
      "please refer to respective documentations \n",
      "https://docs.microsoft.com/azure/machine-learning/how-to-deploy-managed-online-endpoints /\n",
      "https://docs.microsoft.com/azure/machine-learning/how-to-attach-kubernetes-anywhere \n",
      "For more information on migration, see https://aka.ms/acimoemigration \n",
      "To disable CLI/SDK v1 deprecation warning set AZUREML_LOG_DEPRECATION_WARNING_ENABLED to 'False'\n",
      "  service = Model.deploy(\n"
     ]
    },
    {
     "name": "stdout",
     "output_type": "stream",
     "text": [
      "Tips: You can try get_logs(): https://aka.ms/debugimage#dockerlog or local deployment: https://aka.ms/debugimage#debug-locally to debug if deployment takes longer than 10 minutes.\n",
      "Running\n",
      "2023-08-08 20:21:05+12:00 Creating Container Registry if not exists.\n",
      "2023-08-08 20:21:05+12:00 Registering the environment.\n",
      "2023-08-08 20:21:07+12:00 Building image..\n",
      "2023-08-08 20:31:22+12:00 Generating deployment configuration..\n",
      "2023-08-08 20:31:23+12:00 Submitting deployment to compute.\n",
      "2023-08-08 20:31:26+12:00 Checking the status of deployment examlrmodel..\n",
      "2023-08-08 20:37:42+12:00 Checking the status of inference endpoint examlrmodel.\n",
      "Failed\n"
     ]
    },
    {
     "name": "stderr",
     "output_type": "stream",
     "text": [
      "Service deployment polling reached non-successful terminal state, current service state: Failed\n",
      "Operation ID: 8d9b7e4f-8804-4424-b22f-8b907883ffc0\n",
      "More information can be found using '.get_logs()'\n",
      "Error:\n",
      "{\n",
      "  \"code\": \"AciDeploymentFailed\",\n",
      "  \"statusCode\": 400,\n",
      "  \"message\": \"Aci Deployment failed with exception: Your container application crashed. This may be caused by errors in your scoring file's init() function.\n",
      "\t1. Please check the logs for your container instance: examlrmodel. From the AML SDK, you can run print(service.get_logs()) if you have service object to fetch the logs.\n",
      "\t2. You can interactively debug your scoring file locally. Please refer to https://docs.microsoft.com/azure/machine-learning/how-to-debug-visual-studio-code#debug-and-troubleshoot-deployments for more information.\n",
      "\t3. You can also try to run image 3d66ed74acc14ee899a2aeda0467c86a.azurecr.io/azureml/azureml_09d718ac3b59421fde430abe1c93c215 locally. Please refer to https://aka.ms/debugimage#service-launch-fails for more information.\",\n",
      "  \"details\": [\n",
      "    {\n",
      "      \"code\": \"CrashLoopBackOff\",\n",
      "      \"message\": \"Your container application crashed. This may be caused by errors in your scoring file's init() function.\n",
      "\t1. Please check the logs for your container instance: examlrmodel. From the AML SDK, you can run print(service.get_logs()) if you have service object to fetch the logs.\n",
      "\t2. You can interactively debug your scoring file locally. Please refer to https://docs.microsoft.com/azure/machine-learning/how-to-debug-visual-studio-code#debug-and-troubleshoot-deployments for more information.\n",
      "\t3. You can also try to run image 3d66ed74acc14ee899a2aeda0467c86a.azurecr.io/azureml/azureml_09d718ac3b59421fde430abe1c93c215 locally. Please refer to https://aka.ms/debugimage#service-launch-fails for more information.\"\n",
      "    },\n",
      "    {\n",
      "      \"code\": \"AciDeploymentFailed\",\n",
      "      \"message\": \"Your container application crashed. Please follow the steps to debug:\n",
      "\t1. From the AML SDK, you can run print(service.get_logs()) if you have service object to fetch the logs. Please refer to https://aka.ms/debugimage#dockerlog for more information.\n",
      "\t2. If your container application crashed. This may be caused by errors in your scoring file's init() function. You can try debugging locally first. Please refer to https://aka.ms/debugimage#debug-locally for more information.\n",
      "\t3. You can also interactively debug your scoring file locally. Please refer to https://docs.microsoft.com/azure/machine-learning/how-to-debug-visual-studio-code#debug-and-troubleshoot-deployments for more information.\n",
      "\t4. View the diagnostic events to check status of container, it may help you to debug the issue.\n",
      "\"RestartCount\": 3\n",
      "\"CurrentState\": {\"state\":\"Waiting\",\"startTime\":null,\"exitCode\":null,\"finishTime\":null,\"detailStatus\":\"CrashLoopBackOff: Back-off restarting failed\"}\n",
      "\"PreviousState\": {\"state\":\"Terminated\",\"startTime\":\"2023-08-08T08:39:23.241Z\",\"exitCode\":111,\"finishTime\":\"2023-08-08T08:39:42.208Z\",\"detailStatus\":\"Error\"}\n",
      "\"Events\":\n",
      "{\"count\":2,\"firstTimestamp\":\"2023-08-05T08:54:33Z\",\"lastTimestamp\":\"2023-08-05T09:42:45Z\",\"name\":\"Pulling\",\"message\":\"pulling image \"3d66ed74acc14ee899a2aeda0467c86a.azurecr.io/azureml/azureml_3d84b8650f1448fbb033199fac236af6@sha256:86cc470eca14b67a1731bdd1b242bad173d7deef2d467ff3a14c62885bfc2c3a\"\",\"type\":\"Normal\"}\n",
      "{\"count\":2,\"firstTimestamp\":\"2023-08-05T08:55:31Z\",\"lastTimestamp\":\"2023-08-05T09:43:45Z\",\"name\":\"Pulled\",\"message\":\"Successfully pulled image \"3d66ed74acc14ee899a2aeda0467c86a.azurecr.io/azureml/azureml_3d84b8650f1448fbb033199fac236af6@sha256:86cc470eca14b67a1731bdd1b242bad173d7deef2d467ff3a14c62885bfc2c3a\"\",\"type\":\"Normal\"}\n",
      "{\"count\":13,\"firstTimestamp\":\"2023-08-05T08:55:55Z\",\"lastTimestamp\":\"2023-08-05T09:47:08Z\",\"name\":\"Started\",\"message\":\"Started container\",\"type\":\"Normal\"}\n",
      "{\"count\":14,\"firstTimestamp\":\"2023-08-05T08:56:05Z\",\"lastTimestamp\":\"2023-08-05T09:47:17Z\",\"name\":\"Killing\",\"message\":\"Killing container with id 3fa8a95ecbd1e1dbe33695ec334b99bd0962fc22e5920153fc96071fcc9206f6.\",\"type\":\"Normal\"}\n",
      "{\"count\":1,\"firstTimestamp\":\"2023-08-05T09:09:18Z\",\"lastTimestamp\":\"2023-08-05T09:09:18Z\",\"name\":\"Pulling\",\"message\":\"pulling image \"3d66ed74acc14ee899a2aeda0467c86a.azurecr.io/azureml/azureml_3d84b8650f1448fbb033199fac236af6@sha256:86cc470eca14b67a1731bdd1b242bad173d7deef2d467ff3a14c62885bfc2c3a\"\",\"type\":\"Normal\"}\n",
      "{\"count\":1,\"firstTimestamp\":\"2023-08-05T09:10:07Z\",\"lastTimestamp\":\"2023-08-05T09:10:07Z\",\"name\":\"Pulled\",\"message\":\"Successfully pulled image \"3d66ed74acc14ee899a2aeda0467c86a.azurecr.io/azureml/azureml_3d84b8650f1448fbb033199fac236af6@sha256:86cc470eca14b67a1731bdd1b242bad173d7deef2d467ff3a14c62885bfc2c3a\"\",\"type\":\"Normal\"}\n",
      "{\"count\":10,\"firstTimestamp\":\"2023-08-05T09:16:17Z\",\"lastTimestamp\":\"2023-08-05T09:36:17Z\",\"name\":\"Started\",\"message\":\"Started container\",\"type\":\"Normal\"}\n",
      "{\"count\":11,\"firstTimestamp\":\"2023-08-05T09:16:24Z\",\"lastTimestamp\":\"2023-08-05T09:36:24Z\",\"name\":\"Killing\",\"message\":\"Killing container with id c50d7a43c8700b8cd252e1c00c5dbbb18d0c62ae25512b6d81ce285b2f5f5222.\",\"type\":\"Normal\"}\n",
      "{\"count\":1,\"firstTimestamp\":\"2023-08-05T09:29:48Z\",\"lastTimestamp\":\"2023-08-05T09:29:48Z\",\"name\":\"Pulling\",\"message\":\"pulling image \"3d66ed74acc14ee899a2aeda0467c86a.azurecr.io/azureml/azureml_3d84b8650f1448fbb033199fac236af6@sha256:86cc470eca14b67a1731bdd1b242bad173d7deef2d467ff3a14c62885bfc2c3a\"\",\"type\":\"Normal\"}\n",
      "{\"count\":1,\"firstTimestamp\":\"2023-08-05T09:30:44Z\",\"lastTimestamp\":\"2023-08-05T09:30:44Z\",\"name\":\"Pulled\",\"message\":\"Successfully pulled image \"3d66ed74acc14ee899a2aeda0467c86a.azurecr.io/azureml/azureml_3d84b8650f1448fbb033199fac236af6@sha256:86cc470eca14b67a1731bdd1b242bad173d7deef2d467ff3a14c62885bfc2c3a\"\",\"type\":\"Normal\"}\n",
      "{\"count\":8,\"firstTimestamp\":\"2023-08-05T09:36:46Z\",\"lastTimestamp\":\"2023-08-05T09:45:44Z\",\"name\":\"Started\",\"message\":\"Started container\",\"type\":\"Normal\"}\n",
      "{\"count\":9,\"firstTimestamp\":\"2023-08-05T09:36:56Z\",\"lastTimestamp\":\"2023-08-05T09:45:51Z\",\"name\":\"Killing\",\"message\":\"Killing container with id 80491eb734774b759aa03798a3a68d7ffb0a9150d40aa750205c56d77e54f311.\",\"type\":\"Normal\"}\n",
      "{\"count\":1,\"firstTimestamp\":\"2023-08-05T09:46:38Z\",\"lastTimestamp\":\"2023-08-05T09:46:38Z\",\"name\":\"Pulling\",\"message\":\"pulling image \"3d66ed74acc14ee899a2aeda0467c86a.azurecr.io/azureml/azureml_3d84b8650f1448fbb033199fac236af6@sha256:86cc470eca14b67a1731bdd1b242bad173d7deef2d467ff3a14c62885bfc2c3a\"\",\"type\":\"Normal\"}\n",
      "{\"count\":1,\"firstTimestamp\":\"2023-08-05T09:47:33Z\",\"lastTimestamp\":\"2023-08-05T09:47:33Z\",\"name\":\"Pulled\",\"message\":\"Successfully pulled image \"3d66ed74acc14ee899a2aeda0467c86a.azurecr.io/azureml/azureml_3d84b8650f1448fbb033199fac236af6@sha256:86cc470eca14b67a1731bdd1b242bad173d7deef2d467ff3a14c62885bfc2c3a\"\",\"type\":\"Normal\"}\n",
      "{\"count\":1,\"firstTimestamp\":\"2023-08-08T08:35:50Z\",\"lastTimestamp\":\"2023-08-08T08:35:50Z\",\"name\":\"Pulling\",\"message\":\"pulling image \"3d66ed74acc14ee899a2aeda0467c86a.azurecr.io/azureml/azureml_09d718ac3b59421fde430abe1c93c215@sha256:31768f92cacffd8daf35889aafc4a0d4bff32baa46863d91ed797e16e3ccb3f8\"\",\"type\":\"Normal\"}\n",
      "{\"count\":1,\"firstTimestamp\":\"2023-08-08T08:36:45Z\",\"lastTimestamp\":\"2023-08-08T08:36:45Z\",\"name\":\"Pulled\",\"message\":\"Successfully pulled image \"3d66ed74acc14ee899a2aeda0467c86a.azurecr.io/azureml/azureml_09d718ac3b59421fde430abe1c93c215@sha256:31768f92cacffd8daf35889aafc4a0d4bff32baa46863d91ed797e16e3ccb3f8\"\",\"type\":\"Normal\"}\n",
      "{\"count\":4,\"firstTimestamp\":\"2023-08-08T08:37:14Z\",\"lastTimestamp\":\"2023-08-08T08:39:23Z\",\"name\":\"Started\",\"message\":\"Started container\",\"type\":\"Normal\"}\n",
      "{\"count\":3,\"firstTimestamp\":\"2023-08-08T08:37:32Z\",\"lastTimestamp\":\"2023-08-08T08:38:48Z\",\"name\":\"Killing\",\"message\":\"Killing container with id 4904ea32d9bb76c5ba05db440692d1506c7c76256bded650519473f009791ac9.\",\"type\":\"Normal\"}\n",
      "\"\n",
      "    }\n",
      "  ]\n",
      "}\n",
      "\n"
     ]
    },
    {
     "ename": "WebserviceException",
     "evalue": "WebserviceException:\n\tMessage: Service deployment polling reached non-successful terminal state, current service state: Failed\nOperation ID: 8d9b7e4f-8804-4424-b22f-8b907883ffc0\nMore information can be found using '.get_logs()'\nError:\n{\n  \"code\": \"AciDeploymentFailed\",\n  \"statusCode\": 400,\n  \"message\": \"Aci Deployment failed with exception: Your container application crashed. This may be caused by errors in your scoring file's init() function.\n\t1. Please check the logs for your container instance: examlrmodel. From the AML SDK, you can run print(service.get_logs()) if you have service object to fetch the logs.\n\t2. You can interactively debug your scoring file locally. Please refer to https://docs.microsoft.com/azure/machine-learning/how-to-debug-visual-studio-code#debug-and-troubleshoot-deployments for more information.\n\t3. You can also try to run image 3d66ed74acc14ee899a2aeda0467c86a.azurecr.io/azureml/azureml_09d718ac3b59421fde430abe1c93c215 locally. Please refer to https://aka.ms/debugimage#service-launch-fails for more information.\",\n  \"details\": [\n    {\n      \"code\": \"CrashLoopBackOff\",\n      \"message\": \"Your container application crashed. This may be caused by errors in your scoring file's init() function.\n\t1. Please check the logs for your container instance: examlrmodel. From the AML SDK, you can run print(service.get_logs()) if you have service object to fetch the logs.\n\t2. You can interactively debug your scoring file locally. Please refer to https://docs.microsoft.com/azure/machine-learning/how-to-debug-visual-studio-code#debug-and-troubleshoot-deployments for more information.\n\t3. You can also try to run image 3d66ed74acc14ee899a2aeda0467c86a.azurecr.io/azureml/azureml_09d718ac3b59421fde430abe1c93c215 locally. Please refer to https://aka.ms/debugimage#service-launch-fails for more information.\"\n    },\n    {\n      \"code\": \"AciDeploymentFailed\",\n      \"message\": \"Your container application crashed. Please follow the steps to debug:\n\t1. From the AML SDK, you can run print(service.get_logs()) if you have service object to fetch the logs. Please refer to https://aka.ms/debugimage#dockerlog for more information.\n\t2. If your container application crashed. This may be caused by errors in your scoring file's init() function. You can try debugging locally first. Please refer to https://aka.ms/debugimage#debug-locally for more information.\n\t3. You can also interactively debug your scoring file locally. Please refer to https://docs.microsoft.com/azure/machine-learning/how-to-debug-visual-studio-code#debug-and-troubleshoot-deployments for more information.\n\t4. View the diagnostic events to check status of container, it may help you to debug the issue.\n\"RestartCount\": 3\n\"CurrentState\": {\"state\":\"Waiting\",\"startTime\":null,\"exitCode\":null,\"finishTime\":null,\"detailStatus\":\"CrashLoopBackOff: Back-off restarting failed\"}\n\"PreviousState\": {\"state\":\"Terminated\",\"startTime\":\"2023-08-08T08:39:23.241Z\",\"exitCode\":111,\"finishTime\":\"2023-08-08T08:39:42.208Z\",\"detailStatus\":\"Error\"}\n\"Events\":\n{\"count\":2,\"firstTimestamp\":\"2023-08-05T08:54:33Z\",\"lastTimestamp\":\"2023-08-05T09:42:45Z\",\"name\":\"Pulling\",\"message\":\"pulling image \"3d66ed74acc14ee899a2aeda0467c86a.azurecr.io/azureml/azureml_3d84b8650f1448fbb033199fac236af6@sha256:86cc470eca14b67a1731bdd1b242bad173d7deef2d467ff3a14c62885bfc2c3a\"\",\"type\":\"Normal\"}\n{\"count\":2,\"firstTimestamp\":\"2023-08-05T08:55:31Z\",\"lastTimestamp\":\"2023-08-05T09:43:45Z\",\"name\":\"Pulled\",\"message\":\"Successfully pulled image \"3d66ed74acc14ee899a2aeda0467c86a.azurecr.io/azureml/azureml_3d84b8650f1448fbb033199fac236af6@sha256:86cc470eca14b67a1731bdd1b242bad173d7deef2d467ff3a14c62885bfc2c3a\"\",\"type\":\"Normal\"}\n{\"count\":13,\"firstTimestamp\":\"2023-08-05T08:55:55Z\",\"lastTimestamp\":\"2023-08-05T09:47:08Z\",\"name\":\"Started\",\"message\":\"Started container\",\"type\":\"Normal\"}\n{\"count\":14,\"firstTimestamp\":\"2023-08-05T08:56:05Z\",\"lastTimestamp\":\"2023-08-05T09:47:17Z\",\"name\":\"Killing\",\"message\":\"Killing container with id 3fa8a95ecbd1e1dbe33695ec334b99bd0962fc22e5920153fc96071fcc9206f6.\",\"type\":\"Normal\"}\n{\"count\":1,\"firstTimestamp\":\"2023-08-05T09:09:18Z\",\"lastTimestamp\":\"2023-08-05T09:09:18Z\",\"name\":\"Pulling\",\"message\":\"pulling image \"3d66ed74acc14ee899a2aeda0467c86a.azurecr.io/azureml/azureml_3d84b8650f1448fbb033199fac236af6@sha256:86cc470eca14b67a1731bdd1b242bad173d7deef2d467ff3a14c62885bfc2c3a\"\",\"type\":\"Normal\"}\n{\"count\":1,\"firstTimestamp\":\"2023-08-05T09:10:07Z\",\"lastTimestamp\":\"2023-08-05T09:10:07Z\",\"name\":\"Pulled\",\"message\":\"Successfully pulled image \"3d66ed74acc14ee899a2aeda0467c86a.azurecr.io/azureml/azureml_3d84b8650f1448fbb033199fac236af6@sha256:86cc470eca14b67a1731bdd1b242bad173d7deef2d467ff3a14c62885bfc2c3a\"\",\"type\":\"Normal\"}\n{\"count\":10,\"firstTimestamp\":\"2023-08-05T09:16:17Z\",\"lastTimestamp\":\"2023-08-05T09:36:17Z\",\"name\":\"Started\",\"message\":\"Started container\",\"type\":\"Normal\"}\n{\"count\":11,\"firstTimestamp\":\"2023-08-05T09:16:24Z\",\"lastTimestamp\":\"2023-08-05T09:36:24Z\",\"name\":\"Killing\",\"message\":\"Killing container with id c50d7a43c8700b8cd252e1c00c5dbbb18d0c62ae25512b6d81ce285b2f5f5222.\",\"type\":\"Normal\"}\n{\"count\":1,\"firstTimestamp\":\"2023-08-05T09:29:48Z\",\"lastTimestamp\":\"2023-08-05T09:29:48Z\",\"name\":\"Pulling\",\"message\":\"pulling image \"3d66ed74acc14ee899a2aeda0467c86a.azurecr.io/azureml/azureml_3d84b8650f1448fbb033199fac236af6@sha256:86cc470eca14b67a1731bdd1b242bad173d7deef2d467ff3a14c62885bfc2c3a\"\",\"type\":\"Normal\"}\n{\"count\":1,\"firstTimestamp\":\"2023-08-05T09:30:44Z\",\"lastTimestamp\":\"2023-08-05T09:30:44Z\",\"name\":\"Pulled\",\"message\":\"Successfully pulled image \"3d66ed74acc14ee899a2aeda0467c86a.azurecr.io/azureml/azureml_3d84b8650f1448fbb033199fac236af6@sha256:86cc470eca14b67a1731bdd1b242bad173d7deef2d467ff3a14c62885bfc2c3a\"\",\"type\":\"Normal\"}\n{\"count\":8,\"firstTimestamp\":\"2023-08-05T09:36:46Z\",\"lastTimestamp\":\"2023-08-05T09:45:44Z\",\"name\":\"Started\",\"message\":\"Started container\",\"type\":\"Normal\"}\n{\"count\":9,\"firstTimestamp\":\"2023-08-05T09:36:56Z\",\"lastTimestamp\":\"2023-08-05T09:45:51Z\",\"name\":\"Killing\",\"message\":\"Killing container with id 80491eb734774b759aa03798a3a68d7ffb0a9150d40aa750205c56d77e54f311.\",\"type\":\"Normal\"}\n{\"count\":1,\"firstTimestamp\":\"2023-08-05T09:46:38Z\",\"lastTimestamp\":\"2023-08-05T09:46:38Z\",\"name\":\"Pulling\",\"message\":\"pulling image \"3d66ed74acc14ee899a2aeda0467c86a.azurecr.io/azureml/azureml_3d84b8650f1448fbb033199fac236af6@sha256:86cc470eca14b67a1731bdd1b242bad173d7deef2d467ff3a14c62885bfc2c3a\"\",\"type\":\"Normal\"}\n{\"count\":1,\"firstTimestamp\":\"2023-08-05T09:47:33Z\",\"lastTimestamp\":\"2023-08-05T09:47:33Z\",\"name\":\"Pulled\",\"message\":\"Successfully pulled image \"3d66ed74acc14ee899a2aeda0467c86a.azurecr.io/azureml/azureml_3d84b8650f1448fbb033199fac236af6@sha256:86cc470eca14b67a1731bdd1b242bad173d7deef2d467ff3a14c62885bfc2c3a\"\",\"type\":\"Normal\"}\n{\"count\":1,\"firstTimestamp\":\"2023-08-08T08:35:50Z\",\"lastTimestamp\":\"2023-08-08T08:35:50Z\",\"name\":\"Pulling\",\"message\":\"pulling image \"3d66ed74acc14ee899a2aeda0467c86a.azurecr.io/azureml/azureml_09d718ac3b59421fde430abe1c93c215@sha256:31768f92cacffd8daf35889aafc4a0d4bff32baa46863d91ed797e16e3ccb3f8\"\",\"type\":\"Normal\"}\n{\"count\":1,\"firstTimestamp\":\"2023-08-08T08:36:45Z\",\"lastTimestamp\":\"2023-08-08T08:36:45Z\",\"name\":\"Pulled\",\"message\":\"Successfully pulled image \"3d66ed74acc14ee899a2aeda0467c86a.azurecr.io/azureml/azureml_09d718ac3b59421fde430abe1c93c215@sha256:31768f92cacffd8daf35889aafc4a0d4bff32baa46863d91ed797e16e3ccb3f8\"\",\"type\":\"Normal\"}\n{\"count\":4,\"firstTimestamp\":\"2023-08-08T08:37:14Z\",\"lastTimestamp\":\"2023-08-08T08:39:23Z\",\"name\":\"Started\",\"message\":\"Started container\",\"type\":\"Normal\"}\n{\"count\":3,\"firstTimestamp\":\"2023-08-08T08:37:32Z\",\"lastTimestamp\":\"2023-08-08T08:38:48Z\",\"name\":\"Killing\",\"message\":\"Killing container with id 4904ea32d9bb76c5ba05db440692d1506c7c76256bded650519473f009791ac9.\",\"type\":\"Normal\"}\n\"\n    }\n  ]\n}\n\tInnerException None\n\tErrorResponse \n{\n    \"error\": {\n        \"message\": \"Service deployment polling reached non-successful terminal state, current service state: Failed\\nOperation ID: 8d9b7e4f-8804-4424-b22f-8b907883ffc0\\nMore information can be found using '.get_logs()'\\nError:\\n{\\n  \\\"code\\\": \\\"AciDeploymentFailed\\\",\\n  \\\"statusCode\\\": 400,\\n  \\\"message\\\": \\\"Aci Deployment failed with exception: Your container application crashed. This may be caused by errors in your scoring file's init() function.\\n\\t1. Please check the logs for your container instance: examlrmodel. From the AML SDK, you can run print(service.get_logs()) if you have service object to fetch the logs.\\n\\t2. You can interactively debug your scoring file locally. Please refer to https://docs.microsoft.com/azure/machine-learning/how-to-debug-visual-studio-code#debug-and-troubleshoot-deployments for more information.\\n\\t3. You can also try to run image 3d66ed74acc14ee899a2aeda0467c86a.azurecr.io/azureml/azureml_09d718ac3b59421fde430abe1c93c215 locally. Please refer to https://aka.ms/debugimage#service-launch-fails for more information.\\\",\\n  \\\"details\\\": [\\n    {\\n      \\\"code\\\": \\\"CrashLoopBackOff\\\",\\n      \\\"message\\\": \\\"Your container application crashed. This may be caused by errors in your scoring file's init() function.\\n\\t1. Please check the logs for your container instance: examlrmodel. From the AML SDK, you can run print(service.get_logs()) if you have service object to fetch the logs.\\n\\t2. You can interactively debug your scoring file locally. Please refer to https://docs.microsoft.com/azure/machine-learning/how-to-debug-visual-studio-code#debug-and-troubleshoot-deployments for more information.\\n\\t3. You can also try to run image 3d66ed74acc14ee899a2aeda0467c86a.azurecr.io/azureml/azureml_09d718ac3b59421fde430abe1c93c215 locally. Please refer to https://aka.ms/debugimage#service-launch-fails for more information.\\\"\\n    },\\n    {\\n      \\\"code\\\": \\\"AciDeploymentFailed\\\",\\n      \\\"message\\\": \\\"Your container application crashed. Please follow the steps to debug:\\n\\t1. From the AML SDK, you can run print(service.get_logs()) if you have service object to fetch the logs. Please refer to https://aka.ms/debugimage#dockerlog for more information.\\n\\t2. If your container application crashed. This may be caused by errors in your scoring file's init() function. You can try debugging locally first. Please refer to https://aka.ms/debugimage#debug-locally for more information.\\n\\t3. You can also interactively debug your scoring file locally. Please refer to https://docs.microsoft.com/azure/machine-learning/how-to-debug-visual-studio-code#debug-and-troubleshoot-deployments for more information.\\n\\t4. View the diagnostic events to check status of container, it may help you to debug the issue.\\n\\\"RestartCount\\\": 3\\n\\\"CurrentState\\\": {\\\"state\\\":\\\"Waiting\\\",\\\"startTime\\\":null,\\\"exitCode\\\":null,\\\"finishTime\\\":null,\\\"detailStatus\\\":\\\"CrashLoopBackOff: Back-off restarting failed\\\"}\\n\\\"PreviousState\\\": {\\\"state\\\":\\\"Terminated\\\",\\\"startTime\\\":\\\"2023-08-08T08:39:23.241Z\\\",\\\"exitCode\\\":111,\\\"finishTime\\\":\\\"2023-08-08T08:39:42.208Z\\\",\\\"detailStatus\\\":\\\"Error\\\"}\\n\\\"Events\\\":\\n{\\\"count\\\":2,\\\"firstTimestamp\\\":\\\"2023-08-05T08:54:33Z\\\",\\\"lastTimestamp\\\":\\\"2023-08-05T09:42:45Z\\\",\\\"name\\\":\\\"Pulling\\\",\\\"message\\\":\\\"pulling image \\\"3d66ed74acc14ee899a2aeda0467c86a.azurecr.io/azureml/azureml_3d84b8650f1448fbb033199fac236af6@sha256:86cc470eca14b67a1731bdd1b242bad173d7deef2d467ff3a14c62885bfc2c3a\\\"\\\",\\\"type\\\":\\\"Normal\\\"}\\n{\\\"count\\\":2,\\\"firstTimestamp\\\":\\\"2023-08-05T08:55:31Z\\\",\\\"lastTimestamp\\\":\\\"2023-08-05T09:43:45Z\\\",\\\"name\\\":\\\"Pulled\\\",\\\"message\\\":\\\"Successfully pulled image \\\"3d66ed74acc14ee899a2aeda0467c86a.azurecr.io/azureml/azureml_3d84b8650f1448fbb033199fac236af6@sha256:86cc470eca14b67a1731bdd1b242bad173d7deef2d467ff3a14c62885bfc2c3a\\\"\\\",\\\"type\\\":\\\"Normal\\\"}\\n{\\\"count\\\":13,\\\"firstTimestamp\\\":\\\"2023-08-05T08:55:55Z\\\",\\\"lastTimestamp\\\":\\\"2023-08-05T09:47:08Z\\\",\\\"name\\\":\\\"Started\\\",\\\"message\\\":\\\"Started container\\\",\\\"type\\\":\\\"Normal\\\"}\\n{\\\"count\\\":14,\\\"firstTimestamp\\\":\\\"2023-08-05T08:56:05Z\\\",\\\"lastTimestamp\\\":\\\"2023-08-05T09:47:17Z\\\",\\\"name\\\":\\\"Killing\\\",\\\"message\\\":\\\"Killing container with id 3fa8a95ecbd1e1dbe33695ec334b99bd0962fc22e5920153fc96071fcc9206f6.\\\",\\\"type\\\":\\\"Normal\\\"}\\n{\\\"count\\\":1,\\\"firstTimestamp\\\":\\\"2023-08-05T09:09:18Z\\\",\\\"lastTimestamp\\\":\\\"2023-08-05T09:09:18Z\\\",\\\"name\\\":\\\"Pulling\\\",\\\"message\\\":\\\"pulling image \\\"3d66ed74acc14ee899a2aeda0467c86a.azurecr.io/azureml/azureml_3d84b8650f1448fbb033199fac236af6@sha256:86cc470eca14b67a1731bdd1b242bad173d7deef2d467ff3a14c62885bfc2c3a\\\"\\\",\\\"type\\\":\\\"Normal\\\"}\\n{\\\"count\\\":1,\\\"firstTimestamp\\\":\\\"2023-08-05T09:10:07Z\\\",\\\"lastTimestamp\\\":\\\"2023-08-05T09:10:07Z\\\",\\\"name\\\":\\\"Pulled\\\",\\\"message\\\":\\\"Successfully pulled image \\\"3d66ed74acc14ee899a2aeda0467c86a.azurecr.io/azureml/azureml_3d84b8650f1448fbb033199fac236af6@sha256:86cc470eca14b67a1731bdd1b242bad173d7deef2d467ff3a14c62885bfc2c3a\\\"\\\",\\\"type\\\":\\\"Normal\\\"}\\n{\\\"count\\\":10,\\\"firstTimestamp\\\":\\\"2023-08-05T09:16:17Z\\\",\\\"lastTimestamp\\\":\\\"2023-08-05T09:36:17Z\\\",\\\"name\\\":\\\"Started\\\",\\\"message\\\":\\\"Started container\\\",\\\"type\\\":\\\"Normal\\\"}\\n{\\\"count\\\":11,\\\"firstTimestamp\\\":\\\"2023-08-05T09:16:24Z\\\",\\\"lastTimestamp\\\":\\\"2023-08-05T09:36:24Z\\\",\\\"name\\\":\\\"Killing\\\",\\\"message\\\":\\\"Killing container with id c50d7a43c8700b8cd252e1c00c5dbbb18d0c62ae25512b6d81ce285b2f5f5222.\\\",\\\"type\\\":\\\"Normal\\\"}\\n{\\\"count\\\":1,\\\"firstTimestamp\\\":\\\"2023-08-05T09:29:48Z\\\",\\\"lastTimestamp\\\":\\\"2023-08-05T09:29:48Z\\\",\\\"name\\\":\\\"Pulling\\\",\\\"message\\\":\\\"pulling image \\\"3d66ed74acc14ee899a2aeda0467c86a.azurecr.io/azureml/azureml_3d84b8650f1448fbb033199fac236af6@sha256:86cc470eca14b67a1731bdd1b242bad173d7deef2d467ff3a14c62885bfc2c3a\\\"\\\",\\\"type\\\":\\\"Normal\\\"}\\n{\\\"count\\\":1,\\\"firstTimestamp\\\":\\\"2023-08-05T09:30:44Z\\\",\\\"lastTimestamp\\\":\\\"2023-08-05T09:30:44Z\\\",\\\"name\\\":\\\"Pulled\\\",\\\"message\\\":\\\"Successfully pulled image \\\"3d66ed74acc14ee899a2aeda0467c86a.azurecr.io/azureml/azureml_3d84b8650f1448fbb033199fac236af6@sha256:86cc470eca14b67a1731bdd1b242bad173d7deef2d467ff3a14c62885bfc2c3a\\\"\\\",\\\"type\\\":\\\"Normal\\\"}\\n{\\\"count\\\":8,\\\"firstTimestamp\\\":\\\"2023-08-05T09:36:46Z\\\",\\\"lastTimestamp\\\":\\\"2023-08-05T09:45:44Z\\\",\\\"name\\\":\\\"Started\\\",\\\"message\\\":\\\"Started container\\\",\\\"type\\\":\\\"Normal\\\"}\\n{\\\"count\\\":9,\\\"firstTimestamp\\\":\\\"2023-08-05T09:36:56Z\\\",\\\"lastTimestamp\\\":\\\"2023-08-05T09:45:51Z\\\",\\\"name\\\":\\\"Killing\\\",\\\"message\\\":\\\"Killing container with id 80491eb734774b759aa03798a3a68d7ffb0a9150d40aa750205c56d77e54f311.\\\",\\\"type\\\":\\\"Normal\\\"}\\n{\\\"count\\\":1,\\\"firstTimestamp\\\":\\\"2023-08-05T09:46:38Z\\\",\\\"lastTimestamp\\\":\\\"2023-08-05T09:46:38Z\\\",\\\"name\\\":\\\"Pulling\\\",\\\"message\\\":\\\"pulling image \\\"3d66ed74acc14ee899a2aeda0467c86a.azurecr.io/azureml/azureml_3d84b8650f1448fbb033199fac236af6@sha256:86cc470eca14b67a1731bdd1b242bad173d7deef2d467ff3a14c62885bfc2c3a\\\"\\\",\\\"type\\\":\\\"Normal\\\"}\\n{\\\"count\\\":1,\\\"firstTimestamp\\\":\\\"2023-08-05T09:47:33Z\\\",\\\"lastTimestamp\\\":\\\"2023-08-05T09:47:33Z\\\",\\\"name\\\":\\\"Pulled\\\",\\\"message\\\":\\\"Successfully pulled image \\\"3d66ed74acc14ee899a2aeda0467c86a.azurecr.io/azureml/azureml_3d84b8650f1448fbb033199fac236af6@sha256:86cc470eca14b67a1731bdd1b242bad173d7deef2d467ff3a14c62885bfc2c3a\\\"\\\",\\\"type\\\":\\\"Normal\\\"}\\n{\\\"count\\\":1,\\\"firstTimestamp\\\":\\\"2023-08-08T08:35:50Z\\\",\\\"lastTimestamp\\\":\\\"2023-08-08T08:35:50Z\\\",\\\"name\\\":\\\"Pulling\\\",\\\"message\\\":\\\"pulling image \\\"3d66ed74acc14ee899a2aeda0467c86a.azurecr.io/azureml/azureml_09d718ac3b59421fde430abe1c93c215@sha256:31768f92cacffd8daf35889aafc4a0d4bff32baa46863d91ed797e16e3ccb3f8\\\"\\\",\\\"type\\\":\\\"Normal\\\"}\\n{\\\"count\\\":1,\\\"firstTimestamp\\\":\\\"2023-08-08T08:36:45Z\\\",\\\"lastTimestamp\\\":\\\"2023-08-08T08:36:45Z\\\",\\\"name\\\":\\\"Pulled\\\",\\\"message\\\":\\\"Successfully pulled image \\\"3d66ed74acc14ee899a2aeda0467c86a.azurecr.io/azureml/azureml_09d718ac3b59421fde430abe1c93c215@sha256:31768f92cacffd8daf35889aafc4a0d4bff32baa46863d91ed797e16e3ccb3f8\\\"\\\",\\\"type\\\":\\\"Normal\\\"}\\n{\\\"count\\\":4,\\\"firstTimestamp\\\":\\\"2023-08-08T08:37:14Z\\\",\\\"lastTimestamp\\\":\\\"2023-08-08T08:39:23Z\\\",\\\"name\\\":\\\"Started\\\",\\\"message\\\":\\\"Started container\\\",\\\"type\\\":\\\"Normal\\\"}\\n{\\\"count\\\":3,\\\"firstTimestamp\\\":\\\"2023-08-08T08:37:32Z\\\",\\\"lastTimestamp\\\":\\\"2023-08-08T08:38:48Z\\\",\\\"name\\\":\\\"Killing\\\",\\\"message\\\":\\\"Killing container with id 4904ea32d9bb76c5ba05db440692d1506c7c76256bded650519473f009791ac9.\\\",\\\"type\\\":\\\"Normal\\\"}\\n\\\"\\n    }\\n  ]\\n}\"\n    }\n}",
     "output_type": "error",
     "traceback": [
      "\u001b[1;31m---------------------------------------------------------------------------\u001b[0m",
      "\u001b[1;31mWebserviceException\u001b[0m                       Traceback (most recent call last)",
      "Cell \u001b[1;32mIn[7], line 13\u001b[0m\n\u001b[0;32m      3\u001b[0m service \u001b[39m=\u001b[39m Model\u001b[39m.\u001b[39mdeploy(\n\u001b[0;32m      4\u001b[0m     ws,\n\u001b[0;32m      5\u001b[0m     \u001b[39m\"\u001b[39m\u001b[39mexamlrmodel\u001b[39m\u001b[39m\"\u001b[39m,\n\u001b[1;32m   (...)\u001b[0m\n\u001b[0;32m      9\u001b[0m     overwrite\u001b[39m=\u001b[39m\u001b[39mTrue\u001b[39;00m,\n\u001b[0;32m     10\u001b[0m )\n\u001b[0;32m     12\u001b[0m \u001b[39m# Once the model has been deployed, it will appear in the Endpoints section of the Azure Machine Learning Studio\u001b[39;00m\n\u001b[1;32m---> 13\u001b[0m service\u001b[39m.\u001b[39;49mwait_for_deployment(show_output\u001b[39m=\u001b[39;49m\u001b[39mTrue\u001b[39;49;00m)\n",
      "File \u001b[1;32mc:\\Users\\kimby\\Desktop\\venv\\lib\\site-packages\\azureml\\core\\webservice\\webservice.py:918\u001b[0m, in \u001b[0;36mWebservice.wait_for_deployment\u001b[1;34m(self, show_output, timeout_sec)\u001b[0m\n\u001b[0;32m    915\u001b[0m         \u001b[39mif\u001b[39;00m \u001b[39mnot\u001b[39;00m logs_response:\n\u001b[0;32m    916\u001b[0m             logs_response \u001b[39m=\u001b[39m \u001b[39m'\u001b[39m\u001b[39mCurrent sub-operation type not known, more logs unavailable.\u001b[39m\u001b[39m'\u001b[39m\n\u001b[1;32m--> 918\u001b[0m         \u001b[39mraise\u001b[39;00m WebserviceException(\u001b[39m'\u001b[39m\u001b[39mService deployment polling reached non-successful terminal state, current \u001b[39m\u001b[39m'\u001b[39m\n\u001b[0;32m    919\u001b[0m                                   \u001b[39m'\u001b[39m\u001b[39mservice state: \u001b[39m\u001b[39m{}\u001b[39;00m\u001b[39m\\n\u001b[39;00m\u001b[39m'\u001b[39m\n\u001b[0;32m    920\u001b[0m                                   \u001b[39m'\u001b[39m\u001b[39mOperation ID: \u001b[39m\u001b[39m{}\u001b[39;00m\u001b[39m\\n\u001b[39;00m\u001b[39m'\u001b[39m\n\u001b[0;32m    921\u001b[0m                                   \u001b[39m'\u001b[39m\u001b[39m{}\u001b[39;00m\u001b[39m\\n\u001b[39;00m\u001b[39m'\u001b[39m\n\u001b[0;32m    922\u001b[0m                                   \u001b[39m'\u001b[39m\u001b[39mError:\u001b[39m\u001b[39m\\n\u001b[39;00m\u001b[39m'\u001b[39m\n\u001b[0;32m    923\u001b[0m                                   \u001b[39m'\u001b[39m\u001b[39m{}\u001b[39;00m\u001b[39m'\u001b[39m\u001b[39m.\u001b[39mformat(\u001b[39mself\u001b[39m\u001b[39m.\u001b[39mstate, \u001b[39mself\u001b[39m\u001b[39m.\u001b[39m_operation_endpoint\u001b[39m.\u001b[39msplit(\u001b[39m'\u001b[39m\u001b[39m/\u001b[39m\u001b[39m'\u001b[39m)[\u001b[39m-\u001b[39m\u001b[39m1\u001b[39m],\n\u001b[0;32m    924\u001b[0m                                               logs_response, format_error_response), logger\u001b[39m=\u001b[39mmodule_logger)\n\u001b[0;32m    925\u001b[0m     \u001b[39mprint\u001b[39m(\u001b[39m'\u001b[39m\u001b[39m{}\u001b[39;00m\u001b[39m service creation operation finished, operation \u001b[39m\u001b[39m\"\u001b[39m\u001b[39m{}\u001b[39;00m\u001b[39m\"\u001b[39m\u001b[39m'\u001b[39m\u001b[39m.\u001b[39mformat(\u001b[39mself\u001b[39m\u001b[39m.\u001b[39m_webservice_type,\n\u001b[0;32m    926\u001b[0m                                                                           operation_state))\n\u001b[0;32m    927\u001b[0m \u001b[39mexcept\u001b[39;00m WebserviceException \u001b[39mas\u001b[39;00m e:\n",
      "\u001b[1;31mWebserviceException\u001b[0m: WebserviceException:\n\tMessage: Service deployment polling reached non-successful terminal state, current service state: Failed\nOperation ID: 8d9b7e4f-8804-4424-b22f-8b907883ffc0\nMore information can be found using '.get_logs()'\nError:\n{\n  \"code\": \"AciDeploymentFailed\",\n  \"statusCode\": 400,\n  \"message\": \"Aci Deployment failed with exception: Your container application crashed. This may be caused by errors in your scoring file's init() function.\n\t1. Please check the logs for your container instance: examlrmodel. From the AML SDK, you can run print(service.get_logs()) if you have service object to fetch the logs.\n\t2. You can interactively debug your scoring file locally. Please refer to https://docs.microsoft.com/azure/machine-learning/how-to-debug-visual-studio-code#debug-and-troubleshoot-deployments for more information.\n\t3. You can also try to run image 3d66ed74acc14ee899a2aeda0467c86a.azurecr.io/azureml/azureml_09d718ac3b59421fde430abe1c93c215 locally. Please refer to https://aka.ms/debugimage#service-launch-fails for more information.\",\n  \"details\": [\n    {\n      \"code\": \"CrashLoopBackOff\",\n      \"message\": \"Your container application crashed. This may be caused by errors in your scoring file's init() function.\n\t1. Please check the logs for your container instance: examlrmodel. From the AML SDK, you can run print(service.get_logs()) if you have service object to fetch the logs.\n\t2. You can interactively debug your scoring file locally. Please refer to https://docs.microsoft.com/azure/machine-learning/how-to-debug-visual-studio-code#debug-and-troubleshoot-deployments for more information.\n\t3. You can also try to run image 3d66ed74acc14ee899a2aeda0467c86a.azurecr.io/azureml/azureml_09d718ac3b59421fde430abe1c93c215 locally. Please refer to https://aka.ms/debugimage#service-launch-fails for more information.\"\n    },\n    {\n      \"code\": \"AciDeploymentFailed\",\n      \"message\": \"Your container application crashed. Please follow the steps to debug:\n\t1. From the AML SDK, you can run print(service.get_logs()) if you have service object to fetch the logs. Please refer to https://aka.ms/debugimage#dockerlog for more information.\n\t2. If your container application crashed. This may be caused by errors in your scoring file's init() function. You can try debugging locally first. Please refer to https://aka.ms/debugimage#debug-locally for more information.\n\t3. You can also interactively debug your scoring file locally. Please refer to https://docs.microsoft.com/azure/machine-learning/how-to-debug-visual-studio-code#debug-and-troubleshoot-deployments for more information.\n\t4. View the diagnostic events to check status of container, it may help you to debug the issue.\n\"RestartCount\": 3\n\"CurrentState\": {\"state\":\"Waiting\",\"startTime\":null,\"exitCode\":null,\"finishTime\":null,\"detailStatus\":\"CrashLoopBackOff: Back-off restarting failed\"}\n\"PreviousState\": {\"state\":\"Terminated\",\"startTime\":\"2023-08-08T08:39:23.241Z\",\"exitCode\":111,\"finishTime\":\"2023-08-08T08:39:42.208Z\",\"detailStatus\":\"Error\"}\n\"Events\":\n{\"count\":2,\"firstTimestamp\":\"2023-08-05T08:54:33Z\",\"lastTimestamp\":\"2023-08-05T09:42:45Z\",\"name\":\"Pulling\",\"message\":\"pulling image \"3d66ed74acc14ee899a2aeda0467c86a.azurecr.io/azureml/azureml_3d84b8650f1448fbb033199fac236af6@sha256:86cc470eca14b67a1731bdd1b242bad173d7deef2d467ff3a14c62885bfc2c3a\"\",\"type\":\"Normal\"}\n{\"count\":2,\"firstTimestamp\":\"2023-08-05T08:55:31Z\",\"lastTimestamp\":\"2023-08-05T09:43:45Z\",\"name\":\"Pulled\",\"message\":\"Successfully pulled image \"3d66ed74acc14ee899a2aeda0467c86a.azurecr.io/azureml/azureml_3d84b8650f1448fbb033199fac236af6@sha256:86cc470eca14b67a1731bdd1b242bad173d7deef2d467ff3a14c62885bfc2c3a\"\",\"type\":\"Normal\"}\n{\"count\":13,\"firstTimestamp\":\"2023-08-05T08:55:55Z\",\"lastTimestamp\":\"2023-08-05T09:47:08Z\",\"name\":\"Started\",\"message\":\"Started container\",\"type\":\"Normal\"}\n{\"count\":14,\"firstTimestamp\":\"2023-08-05T08:56:05Z\",\"lastTimestamp\":\"2023-08-05T09:47:17Z\",\"name\":\"Killing\",\"message\":\"Killing container with id 3fa8a95ecbd1e1dbe33695ec334b99bd0962fc22e5920153fc96071fcc9206f6.\",\"type\":\"Normal\"}\n{\"count\":1,\"firstTimestamp\":\"2023-08-05T09:09:18Z\",\"lastTimestamp\":\"2023-08-05T09:09:18Z\",\"name\":\"Pulling\",\"message\":\"pulling image \"3d66ed74acc14ee899a2aeda0467c86a.azurecr.io/azureml/azureml_3d84b8650f1448fbb033199fac236af6@sha256:86cc470eca14b67a1731bdd1b242bad173d7deef2d467ff3a14c62885bfc2c3a\"\",\"type\":\"Normal\"}\n{\"count\":1,\"firstTimestamp\":\"2023-08-05T09:10:07Z\",\"lastTimestamp\":\"2023-08-05T09:10:07Z\",\"name\":\"Pulled\",\"message\":\"Successfully pulled image \"3d66ed74acc14ee899a2aeda0467c86a.azurecr.io/azureml/azureml_3d84b8650f1448fbb033199fac236af6@sha256:86cc470eca14b67a1731bdd1b242bad173d7deef2d467ff3a14c62885bfc2c3a\"\",\"type\":\"Normal\"}\n{\"count\":10,\"firstTimestamp\":\"2023-08-05T09:16:17Z\",\"lastTimestamp\":\"2023-08-05T09:36:17Z\",\"name\":\"Started\",\"message\":\"Started container\",\"type\":\"Normal\"}\n{\"count\":11,\"firstTimestamp\":\"2023-08-05T09:16:24Z\",\"lastTimestamp\":\"2023-08-05T09:36:24Z\",\"name\":\"Killing\",\"message\":\"Killing container with id c50d7a43c8700b8cd252e1c00c5dbbb18d0c62ae25512b6d81ce285b2f5f5222.\",\"type\":\"Normal\"}\n{\"count\":1,\"firstTimestamp\":\"2023-08-05T09:29:48Z\",\"lastTimestamp\":\"2023-08-05T09:29:48Z\",\"name\":\"Pulling\",\"message\":\"pulling image \"3d66ed74acc14ee899a2aeda0467c86a.azurecr.io/azureml/azureml_3d84b8650f1448fbb033199fac236af6@sha256:86cc470eca14b67a1731bdd1b242bad173d7deef2d467ff3a14c62885bfc2c3a\"\",\"type\":\"Normal\"}\n{\"count\":1,\"firstTimestamp\":\"2023-08-05T09:30:44Z\",\"lastTimestamp\":\"2023-08-05T09:30:44Z\",\"name\":\"Pulled\",\"message\":\"Successfully pulled image \"3d66ed74acc14ee899a2aeda0467c86a.azurecr.io/azureml/azureml_3d84b8650f1448fbb033199fac236af6@sha256:86cc470eca14b67a1731bdd1b242bad173d7deef2d467ff3a14c62885bfc2c3a\"\",\"type\":\"Normal\"}\n{\"count\":8,\"firstTimestamp\":\"2023-08-05T09:36:46Z\",\"lastTimestamp\":\"2023-08-05T09:45:44Z\",\"name\":\"Started\",\"message\":\"Started container\",\"type\":\"Normal\"}\n{\"count\":9,\"firstTimestamp\":\"2023-08-05T09:36:56Z\",\"lastTimestamp\":\"2023-08-05T09:45:51Z\",\"name\":\"Killing\",\"message\":\"Killing container with id 80491eb734774b759aa03798a3a68d7ffb0a9150d40aa750205c56d77e54f311.\",\"type\":\"Normal\"}\n{\"count\":1,\"firstTimestamp\":\"2023-08-05T09:46:38Z\",\"lastTimestamp\":\"2023-08-05T09:46:38Z\",\"name\":\"Pulling\",\"message\":\"pulling image \"3d66ed74acc14ee899a2aeda0467c86a.azurecr.io/azureml/azureml_3d84b8650f1448fbb033199fac236af6@sha256:86cc470eca14b67a1731bdd1b242bad173d7deef2d467ff3a14c62885bfc2c3a\"\",\"type\":\"Normal\"}\n{\"count\":1,\"firstTimestamp\":\"2023-08-05T09:47:33Z\",\"lastTimestamp\":\"2023-08-05T09:47:33Z\",\"name\":\"Pulled\",\"message\":\"Successfully pulled image \"3d66ed74acc14ee899a2aeda0467c86a.azurecr.io/azureml/azureml_3d84b8650f1448fbb033199fac236af6@sha256:86cc470eca14b67a1731bdd1b242bad173d7deef2d467ff3a14c62885bfc2c3a\"\",\"type\":\"Normal\"}\n{\"count\":1,\"firstTimestamp\":\"2023-08-08T08:35:50Z\",\"lastTimestamp\":\"2023-08-08T08:35:50Z\",\"name\":\"Pulling\",\"message\":\"pulling image \"3d66ed74acc14ee899a2aeda0467c86a.azurecr.io/azureml/azureml_09d718ac3b59421fde430abe1c93c215@sha256:31768f92cacffd8daf35889aafc4a0d4bff32baa46863d91ed797e16e3ccb3f8\"\",\"type\":\"Normal\"}\n{\"count\":1,\"firstTimestamp\":\"2023-08-08T08:36:45Z\",\"lastTimestamp\":\"2023-08-08T08:36:45Z\",\"name\":\"Pulled\",\"message\":\"Successfully pulled image \"3d66ed74acc14ee899a2aeda0467c86a.azurecr.io/azureml/azureml_09d718ac3b59421fde430abe1c93c215@sha256:31768f92cacffd8daf35889aafc4a0d4bff32baa46863d91ed797e16e3ccb3f8\"\",\"type\":\"Normal\"}\n{\"count\":4,\"firstTimestamp\":\"2023-08-08T08:37:14Z\",\"lastTimestamp\":\"2023-08-08T08:39:23Z\",\"name\":\"Started\",\"message\":\"Started container\",\"type\":\"Normal\"}\n{\"count\":3,\"firstTimestamp\":\"2023-08-08T08:37:32Z\",\"lastTimestamp\":\"2023-08-08T08:38:48Z\",\"name\":\"Killing\",\"message\":\"Killing container with id 4904ea32d9bb76c5ba05db440692d1506c7c76256bded650519473f009791ac9.\",\"type\":\"Normal\"}\n\"\n    }\n  ]\n}\n\tInnerException None\n\tErrorResponse \n{\n    \"error\": {\n        \"message\": \"Service deployment polling reached non-successful terminal state, current service state: Failed\\nOperation ID: 8d9b7e4f-8804-4424-b22f-8b907883ffc0\\nMore information can be found using '.get_logs()'\\nError:\\n{\\n  \\\"code\\\": \\\"AciDeploymentFailed\\\",\\n  \\\"statusCode\\\": 400,\\n  \\\"message\\\": \\\"Aci Deployment failed with exception: Your container application crashed. This may be caused by errors in your scoring file's init() function.\\n\\t1. Please check the logs for your container instance: examlrmodel. From the AML SDK, you can run print(service.get_logs()) if you have service object to fetch the logs.\\n\\t2. You can interactively debug your scoring file locally. Please refer to https://docs.microsoft.com/azure/machine-learning/how-to-debug-visual-studio-code#debug-and-troubleshoot-deployments for more information.\\n\\t3. You can also try to run image 3d66ed74acc14ee899a2aeda0467c86a.azurecr.io/azureml/azureml_09d718ac3b59421fde430abe1c93c215 locally. Please refer to https://aka.ms/debugimage#service-launch-fails for more information.\\\",\\n  \\\"details\\\": [\\n    {\\n      \\\"code\\\": \\\"CrashLoopBackOff\\\",\\n      \\\"message\\\": \\\"Your container application crashed. This may be caused by errors in your scoring file's init() function.\\n\\t1. Please check the logs for your container instance: examlrmodel. From the AML SDK, you can run print(service.get_logs()) if you have service object to fetch the logs.\\n\\t2. You can interactively debug your scoring file locally. Please refer to https://docs.microsoft.com/azure/machine-learning/how-to-debug-visual-studio-code#debug-and-troubleshoot-deployments for more information.\\n\\t3. You can also try to run image 3d66ed74acc14ee899a2aeda0467c86a.azurecr.io/azureml/azureml_09d718ac3b59421fde430abe1c93c215 locally. Please refer to https://aka.ms/debugimage#service-launch-fails for more information.\\\"\\n    },\\n    {\\n      \\\"code\\\": \\\"AciDeploymentFailed\\\",\\n      \\\"message\\\": \\\"Your container application crashed. Please follow the steps to debug:\\n\\t1. From the AML SDK, you can run print(service.get_logs()) if you have service object to fetch the logs. Please refer to https://aka.ms/debugimage#dockerlog for more information.\\n\\t2. If your container application crashed. This may be caused by errors in your scoring file's init() function. You can try debugging locally first. Please refer to https://aka.ms/debugimage#debug-locally for more information.\\n\\t3. You can also interactively debug your scoring file locally. Please refer to https://docs.microsoft.com/azure/machine-learning/how-to-debug-visual-studio-code#debug-and-troubleshoot-deployments for more information.\\n\\t4. View the diagnostic events to check status of container, it may help you to debug the issue.\\n\\\"RestartCount\\\": 3\\n\\\"CurrentState\\\": {\\\"state\\\":\\\"Waiting\\\",\\\"startTime\\\":null,\\\"exitCode\\\":null,\\\"finishTime\\\":null,\\\"detailStatus\\\":\\\"CrashLoopBackOff: Back-off restarting failed\\\"}\\n\\\"PreviousState\\\": {\\\"state\\\":\\\"Terminated\\\",\\\"startTime\\\":\\\"2023-08-08T08:39:23.241Z\\\",\\\"exitCode\\\":111,\\\"finishTime\\\":\\\"2023-08-08T08:39:42.208Z\\\",\\\"detailStatus\\\":\\\"Error\\\"}\\n\\\"Events\\\":\\n{\\\"count\\\":2,\\\"firstTimestamp\\\":\\\"2023-08-05T08:54:33Z\\\",\\\"lastTimestamp\\\":\\\"2023-08-05T09:42:45Z\\\",\\\"name\\\":\\\"Pulling\\\",\\\"message\\\":\\\"pulling image \\\"3d66ed74acc14ee899a2aeda0467c86a.azurecr.io/azureml/azureml_3d84b8650f1448fbb033199fac236af6@sha256:86cc470eca14b67a1731bdd1b242bad173d7deef2d467ff3a14c62885bfc2c3a\\\"\\\",\\\"type\\\":\\\"Normal\\\"}\\n{\\\"count\\\":2,\\\"firstTimestamp\\\":\\\"2023-08-05T08:55:31Z\\\",\\\"lastTimestamp\\\":\\\"2023-08-05T09:43:45Z\\\",\\\"name\\\":\\\"Pulled\\\",\\\"message\\\":\\\"Successfully pulled image \\\"3d66ed74acc14ee899a2aeda0467c86a.azurecr.io/azureml/azureml_3d84b8650f1448fbb033199fac236af6@sha256:86cc470eca14b67a1731bdd1b242bad173d7deef2d467ff3a14c62885bfc2c3a\\\"\\\",\\\"type\\\":\\\"Normal\\\"}\\n{\\\"count\\\":13,\\\"firstTimestamp\\\":\\\"2023-08-05T08:55:55Z\\\",\\\"lastTimestamp\\\":\\\"2023-08-05T09:47:08Z\\\",\\\"name\\\":\\\"Started\\\",\\\"message\\\":\\\"Started container\\\",\\\"type\\\":\\\"Normal\\\"}\\n{\\\"count\\\":14,\\\"firstTimestamp\\\":\\\"2023-08-05T08:56:05Z\\\",\\\"lastTimestamp\\\":\\\"2023-08-05T09:47:17Z\\\",\\\"name\\\":\\\"Killing\\\",\\\"message\\\":\\\"Killing container with id 3fa8a95ecbd1e1dbe33695ec334b99bd0962fc22e5920153fc96071fcc9206f6.\\\",\\\"type\\\":\\\"Normal\\\"}\\n{\\\"count\\\":1,\\\"firstTimestamp\\\":\\\"2023-08-05T09:09:18Z\\\",\\\"lastTimestamp\\\":\\\"2023-08-05T09:09:18Z\\\",\\\"name\\\":\\\"Pulling\\\",\\\"message\\\":\\\"pulling image \\\"3d66ed74acc14ee899a2aeda0467c86a.azurecr.io/azureml/azureml_3d84b8650f1448fbb033199fac236af6@sha256:86cc470eca14b67a1731bdd1b242bad173d7deef2d467ff3a14c62885bfc2c3a\\\"\\\",\\\"type\\\":\\\"Normal\\\"}\\n{\\\"count\\\":1,\\\"firstTimestamp\\\":\\\"2023-08-05T09:10:07Z\\\",\\\"lastTimestamp\\\":\\\"2023-08-05T09:10:07Z\\\",\\\"name\\\":\\\"Pulled\\\",\\\"message\\\":\\\"Successfully pulled image \\\"3d66ed74acc14ee899a2aeda0467c86a.azurecr.io/azureml/azureml_3d84b8650f1448fbb033199fac236af6@sha256:86cc470eca14b67a1731bdd1b242bad173d7deef2d467ff3a14c62885bfc2c3a\\\"\\\",\\\"type\\\":\\\"Normal\\\"}\\n{\\\"count\\\":10,\\\"firstTimestamp\\\":\\\"2023-08-05T09:16:17Z\\\",\\\"lastTimestamp\\\":\\\"2023-08-05T09:36:17Z\\\",\\\"name\\\":\\\"Started\\\",\\\"message\\\":\\\"Started container\\\",\\\"type\\\":\\\"Normal\\\"}\\n{\\\"count\\\":11,\\\"firstTimestamp\\\":\\\"2023-08-05T09:16:24Z\\\",\\\"lastTimestamp\\\":\\\"2023-08-05T09:36:24Z\\\",\\\"name\\\":\\\"Killing\\\",\\\"message\\\":\\\"Killing container with id c50d7a43c8700b8cd252e1c00c5dbbb18d0c62ae25512b6d81ce285b2f5f5222.\\\",\\\"type\\\":\\\"Normal\\\"}\\n{\\\"count\\\":1,\\\"firstTimestamp\\\":\\\"2023-08-05T09:29:48Z\\\",\\\"lastTimestamp\\\":\\\"2023-08-05T09:29:48Z\\\",\\\"name\\\":\\\"Pulling\\\",\\\"message\\\":\\\"pulling image \\\"3d66ed74acc14ee899a2aeda0467c86a.azurecr.io/azureml/azureml_3d84b8650f1448fbb033199fac236af6@sha256:86cc470eca14b67a1731bdd1b242bad173d7deef2d467ff3a14c62885bfc2c3a\\\"\\\",\\\"type\\\":\\\"Normal\\\"}\\n{\\\"count\\\":1,\\\"firstTimestamp\\\":\\\"2023-08-05T09:30:44Z\\\",\\\"lastTimestamp\\\":\\\"2023-08-05T09:30:44Z\\\",\\\"name\\\":\\\"Pulled\\\",\\\"message\\\":\\\"Successfully pulled image \\\"3d66ed74acc14ee899a2aeda0467c86a.azurecr.io/azureml/azureml_3d84b8650f1448fbb033199fac236af6@sha256:86cc470eca14b67a1731bdd1b242bad173d7deef2d467ff3a14c62885bfc2c3a\\\"\\\",\\\"type\\\":\\\"Normal\\\"}\\n{\\\"count\\\":8,\\\"firstTimestamp\\\":\\\"2023-08-05T09:36:46Z\\\",\\\"lastTimestamp\\\":\\\"2023-08-05T09:45:44Z\\\",\\\"name\\\":\\\"Started\\\",\\\"message\\\":\\\"Started container\\\",\\\"type\\\":\\\"Normal\\\"}\\n{\\\"count\\\":9,\\\"firstTimestamp\\\":\\\"2023-08-05T09:36:56Z\\\",\\\"lastTimestamp\\\":\\\"2023-08-05T09:45:51Z\\\",\\\"name\\\":\\\"Killing\\\",\\\"message\\\":\\\"Killing container with id 80491eb734774b759aa03798a3a68d7ffb0a9150d40aa750205c56d77e54f311.\\\",\\\"type\\\":\\\"Normal\\\"}\\n{\\\"count\\\":1,\\\"firstTimestamp\\\":\\\"2023-08-05T09:46:38Z\\\",\\\"lastTimestamp\\\":\\\"2023-08-05T09:46:38Z\\\",\\\"name\\\":\\\"Pulling\\\",\\\"message\\\":\\\"pulling image \\\"3d66ed74acc14ee899a2aeda0467c86a.azurecr.io/azureml/azureml_3d84b8650f1448fbb033199fac236af6@sha256:86cc470eca14b67a1731bdd1b242bad173d7deef2d467ff3a14c62885bfc2c3a\\\"\\\",\\\"type\\\":\\\"Normal\\\"}\\n{\\\"count\\\":1,\\\"firstTimestamp\\\":\\\"2023-08-05T09:47:33Z\\\",\\\"lastTimestamp\\\":\\\"2023-08-05T09:47:33Z\\\",\\\"name\\\":\\\"Pulled\\\",\\\"message\\\":\\\"Successfully pulled image \\\"3d66ed74acc14ee899a2aeda0467c86a.azurecr.io/azureml/azureml_3d84b8650f1448fbb033199fac236af6@sha256:86cc470eca14b67a1731bdd1b242bad173d7deef2d467ff3a14c62885bfc2c3a\\\"\\\",\\\"type\\\":\\\"Normal\\\"}\\n{\\\"count\\\":1,\\\"firstTimestamp\\\":\\\"2023-08-08T08:35:50Z\\\",\\\"lastTimestamp\\\":\\\"2023-08-08T08:35:50Z\\\",\\\"name\\\":\\\"Pulling\\\",\\\"message\\\":\\\"pulling image \\\"3d66ed74acc14ee899a2aeda0467c86a.azurecr.io/azureml/azureml_09d718ac3b59421fde430abe1c93c215@sha256:31768f92cacffd8daf35889aafc4a0d4bff32baa46863d91ed797e16e3ccb3f8\\\"\\\",\\\"type\\\":\\\"Normal\\\"}\\n{\\\"count\\\":1,\\\"firstTimestamp\\\":\\\"2023-08-08T08:36:45Z\\\",\\\"lastTimestamp\\\":\\\"2023-08-08T08:36:45Z\\\",\\\"name\\\":\\\"Pulled\\\",\\\"message\\\":\\\"Successfully pulled image \\\"3d66ed74acc14ee899a2aeda0467c86a.azurecr.io/azureml/azureml_09d718ac3b59421fde430abe1c93c215@sha256:31768f92cacffd8daf35889aafc4a0d4bff32baa46863d91ed797e16e3ccb3f8\\\"\\\",\\\"type\\\":\\\"Normal\\\"}\\n{\\\"count\\\":4,\\\"firstTimestamp\\\":\\\"2023-08-08T08:37:14Z\\\",\\\"lastTimestamp\\\":\\\"2023-08-08T08:39:23Z\\\",\\\"name\\\":\\\"Started\\\",\\\"message\\\":\\\"Started container\\\",\\\"type\\\":\\\"Normal\\\"}\\n{\\\"count\\\":3,\\\"firstTimestamp\\\":\\\"2023-08-08T08:37:32Z\\\",\\\"lastTimestamp\\\":\\\"2023-08-08T08:38:48Z\\\",\\\"name\\\":\\\"Killing\\\",\\\"message\\\":\\\"Killing container with id 4904ea32d9bb76c5ba05db440692d1506c7c76256bded650519473f009791ac9.\\\",\\\"type\\\":\\\"Normal\\\"}\\n\\\"\\n    }\\n  ]\\n}\"\n    }\n}"
     ]
    }
   ],
   "source": [
    "# Change the amount of CPU or memory depending on what kind of model used\n",
    "aci_config = AciWebservice.deploy_configuration(cpu_cores=1, memory_gb=1)\n",
    "service = Model.deploy(\n",
    "    ws,\n",
    "    \"examlrmodel\",\n",
    "    [lr_model],\n",
    "    inference_config,\n",
    "    aci_config,\n",
    "    overwrite=True,\n",
    ")\n",
    "\n",
    "# Once the model has been deployed, it will appear in the Endpoints section of the Azure Machine Learning Studio\n",
    "service.wait_for_deployment(show_output=True)"
   ]
  },
  {
   "cell_type": "markdown",
   "metadata": {},
   "source": [
    "### Test model endpoint"
   ]
  },
  {
   "cell_type": "markdown",
   "metadata": {},
   "source": [
    "Our deployed model can be called via a REST API. If it returns a prediction, then we have successfully deployed our model!"
   ]
  },
  {
   "cell_type": "code",
   "execution_count": null,
   "metadata": {},
   "outputs": [
    {
     "ename": "NameError",
     "evalue": "name 'service' is not defined",
     "output_type": "error",
     "traceback": [
      "\u001b[1;31m---------------------------------------------------------------------------\u001b[0m",
      "\u001b[1;31mNameError\u001b[0m                                 Traceback (most recent call last)",
      "Cell \u001b[1;32mIn[17], line 1\u001b[0m\n\u001b[1;32m----> 1\u001b[0m uri \u001b[39m=\u001b[39m service\u001b[39m.\u001b[39mscoring_uri\n\u001b[0;32m      3\u001b[0m \u001b[39m# Your API endpoint will look like this: http://16a75b9c-e6cc-47cd-89f6-215e077c43a9.australiaeast.azurecontainer.io/score\u001b[39;00m\n\u001b[0;32m      4\u001b[0m requests\u001b[39m.\u001b[39mget(\u001b[39m\"\u001b[39m\u001b[39m<Add your API endpoint here>\u001b[39m\u001b[39m\"\u001b[39m)\n",
      "\u001b[1;31mNameError\u001b[0m: name 'service' is not defined"
     ]
    }
   ],
   "source": [
    "uri = service.scoring_uri\n",
    "\n",
    "# Your API endpoint will look like this: http://16a75b9c-e6cc-47cd-89f6-215e077c43a9.australiaeast.azurecontainer.io/score\n",
    "requests.get(\"<Add your API endpoint here>\")\n",
    "headers = {\"Content-Type\": \"application/json\"}\n",
    "data = {\n",
    "    \"data\": [[6.1, 2.8, 4.7, 1.2]],\n",
    "}\n",
    "data = json.dumps(data)\n",
    "\n",
    "# Output a classification/regression result back to the user\n",
    "response = requests.post(uri, data=data, headers=headers)\n",
    "print(response.json())"
   ]
  }
 ],
 "metadata": {
  "interpreter": {
   "hash": "bdb671202a387ebf0bc7bf04476cbafa528fae566193c2efe94e2aaf8539be45"
  },
  "kernelspec": {
   "display_name": "Python 3",
   "language": "python",
   "name": "python3"
  },
  "language_info": {
   "codemirror_mode": {
    "name": "ipython",
    "version": 3
   },
   "file_extension": ".py",
   "mimetype": "text/x-python",
   "name": "python",
   "nbconvert_exporter": "python",
   "pygments_lexer": "ipython3",
   "version": "3.8.1"
  }
 },
 "nbformat": 4,
 "nbformat_minor": 2
}
